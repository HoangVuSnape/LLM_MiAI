{
 "cells": [
  {
   "cell_type": "code",
   "execution_count": 1,
   "metadata": {},
   "outputs": [],
   "source": [
    "from langchain_community.llms import CTransformers\n",
    "from langchain.chains import LLMChain\n",
    "from langchain.prompts import PromptTemplate\n"
   ]
  },
  {
   "cell_type": "code",
   "execution_count": 2,
   "metadata": {},
   "outputs": [
    {
     "name": "stderr",
     "output_type": "stream",
     "text": [
      "c:\\Users\\Snape\\anaconda3\\envs\\torch\\Lib\\site-packages\\langchain_core\\_api\\deprecation.py:141: LangChainDeprecationWarning: The class `LLMChain` was deprecated in LangChain 0.1.17 and will be removed in 1.0. Use RunnableSequence, e.g., `prompt | llm` instead.\n",
      "  warn_deprecated(\n"
     ]
    },
    {
     "name": "stdout",
     "output_type": "stream",
     "text": [
      "{'question': 'Một cộng một bằng mấy?', 'text': '\\nCó nhiều hơn một chữ cái trong từ \"a\" và \"one.\" Do đó, \"a\" và \"one\" không bằng nhau.'}\n"
     ]
    }
   ],
   "source": [
    "\n",
    "# Cau hinh\n",
    "model_file = \"models/vinallama-7b-chat_q5_0.gguf\"\n",
    "\n",
    "\n",
    "# Load LLM\n",
    "def load_llm(model_file):\n",
    "    llm = CTransformers(\n",
    "        model=model_file,\n",
    "        model_type=\"llama\",\n",
    "        max_new_tokens=1024,\n",
    "        temperature=0.01\n",
    "    )\n",
    "    return llm\n",
    "\n",
    "# Tao prompt template\n",
    "def creat_prompt(template):\n",
    "    prompt = PromptTemplate(template = template, input_variables=[\"question\"])\n",
    "    return prompt\n",
    "\n",
    "\n",
    "# Tao simple chain\n",
    "def create_simple_chain(prompt, llm):\n",
    "    llm_chain = LLMChain(prompt=prompt, llm=llm)\n",
    "    return llm_chain\n",
    "\n",
    "# Chay thu chain\n",
    "\n",
    "template = \"\"\"<|im_start|>system\n",
    "Bạn là một trợ lí AI hữu ích. Hãy trả lời người dùng một cách chính xác.\n",
    "<|im_end|>\n",
    "<|im_start|>user\n",
    "{question}<|im_end|>\n",
    "<|im_start|>assistant\"\"\"\n",
    "\n",
    "prompt = creat_prompt(template)\n",
    "llm = load_llm(model_file)\n",
    "llm_chain = create_simple_chain(prompt, llm)\n",
    "\n",
    "question = \"Một cộng một bằng mấy?\"\n",
    "response = llm_chain.invoke({\"question\":question})\n",
    "print(response)\n",
    "\n"
   ]
  }
 ],
 "metadata": {
  "kernelspec": {
   "display_name": "Python 3",
   "language": "python",
   "name": "python3"
  },
  "language_info": {
   "codemirror_mode": {
    "name": "ipython",
    "version": 3
   },
   "file_extension": ".py",
   "mimetype": "text/x-python",
   "name": "python",
   "nbconvert_exporter": "python",
   "pygments_lexer": "ipython3",
   "version": "3.11.9"
  }
 },
 "nbformat": 4,
 "nbformat_minor": 2
}
